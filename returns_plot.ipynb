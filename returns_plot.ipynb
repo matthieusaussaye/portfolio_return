{
 "cells": [
  {
   "cell_type": "code",
   "execution_count": 29,
   "source": [
    "import numpy\n",
    "import pandas as pd\n",
    "import plotly\n",
    "import math\n",
    "from pandas_datareader import data as wb\n",
    "from portfolio_return import portfolio_dataframe\n",
    "\n",
    "pd.options.plotting.backend = \"plotly\"\n"
   ],
   "outputs": [],
   "metadata": {}
  },
  {
   "cell_type": "code",
   "execution_count": 25,
   "source": [
    "pd.options.plotting.backend = \"plotly\"\n",
    "\n",
    "# Choose assets that constitue portfolio\n",
    "tickers = ['SOL1-USD','EGLD-USD','ETH-USD','AVAX-USD','BNB-USD']\n",
    "\n",
    "df_portfolio = portfolio_dataframe(tickers)\n",
    "\n",
    "\n"
   ],
   "outputs": [],
   "metadata": {}
  }
 ],
 "metadata": {
  "orig_nbformat": 4,
  "language_info": {
   "name": "python",
   "version": "3.8.5",
   "mimetype": "text/x-python",
   "codemirror_mode": {
    "name": "ipython",
    "version": 3
   },
   "pygments_lexer": "ipython3",
   "nbconvert_exporter": "python",
   "file_extension": ".py"
  },
  "kernelspec": {
   "name": "python3",
   "display_name": "Python 3.8.5 64-bit ('crypto-trading-bot-2NQVy3KX-py3.8': venv)"
  },
  "interpreter": {
   "hash": "5dd3dc30848b78765b16a16feaf6490d50f30ad57d44a1fe7e49be7641e0bd0a"
  }
 },
 "nbformat": 4,
 "nbformat_minor": 2
}